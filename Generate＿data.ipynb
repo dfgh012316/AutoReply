{
 "cells": [
  {
   "cell_type": "code",
   "execution_count": 16,
   "metadata": {},
   "outputs": [
    {
     "name": "stderr",
     "output_type": "stream",
     "text": [
      "<ipython-input-16-c7c3f6f2cced>:5: DeprecationWarning: Call to deprecated `load_fasttext_format` (use load_facebook_vectors (to use pretrained embeddings) or load_facebook_model (to continue training with the loaded full model, more RAM) instead).\n",
      "  model = FastText.load_fasttext_format('cc.zh.300.bin')\n"
     ]
    }
   ],
   "source": [
    "import jieba\n",
    "import jieba.analyse\n",
    "from gensim.models.fasttext import FastText\n",
    "\n",
    "model = FastText.load_fasttext_format('cc.zh.300.bin')"
   ]
  },
  {
   "cell_type": "code",
   "execution_count": 11,
   "metadata": {},
   "outputs": [
    {
     "name": "stderr",
     "output_type": "stream",
     "text": [
      "Building prefix dict from the default dictionary ...\n",
      "Loading model from cache /var/folders/8j/srsbd45x0xl26q1psrmvnpwc0000gn/T/jieba.cache\n",
      "Loading model cost 0.428 seconds.\n",
      "Prefix dict has been built successfully.\n"
     ]
    },
    {
     "name": "stdout",
     "output_type": "stream",
     "text": [
      "['可以', '帶寵物', '嘛', '?']\n",
      "[['可以', 0, 2], ['帶寵物', 2, 5], ['嘛', 5, 6], ['?', 6, 7]]\n",
      "[['可以', 'c'], ['帶', 'v'], ['寵物', 'n'], ['嘛', 'y'], ['?', 'x']]\n"
     ]
    }
   ],
   "source": [
    "import jieba\n",
    "import jieba.posseg as pseg\n",
    "import nltk\n",
    "sentence='可以帶寵物嘛?'\n",
    "keywords_ls=[]\n",
    "keywords=jieba.cut(sentence)\n",
    "result = jieba.tokenize(sentence, mode='search')\n",
    "result_ls=[]\n",
    "\n",
    "for keyword in keywords:\n",
    "    keywords_ls.append(keyword)\n",
    "\n",
    "for tk in result:\n",
    "    result_ls.append([tk[0],tk[1],tk[2]])\n",
    "\n",
    "words_ls=[]\n",
    "words = pseg.cut(sentence) #jieba默认模式\n",
    "# jieba.enable_paddle() #启动paddle模式。 0.40版之后开始支持，早期版本不支持\n",
    "# words2 = pseg.cut(sentence,use_paddle=True) #paddle模式\n",
    "for word, flag in words:\n",
    "    words_ls.append([word,flag])\n",
    "    \n",
    "print(keywords_ls)\n",
    "print(result_ls)\n",
    "print(words_ls)"
   ]
  },
  {
   "cell_type": "code",
   "execution_count": 18,
   "metadata": {},
   "outputs": [
    {
     "data": {
      "text/plain": [
       "[('廷計', 0.6794044971466064),\n",
       " ('宠物', 0.6726775765419006),\n",
       " ('狗狗貓貓', 0.6567662954330444),\n",
       " ('貓咪', 0.6476302146911621),\n",
       " ('竉物', 0.635521411895752),\n",
       " ('搜尋寵', 0.6285601258277893),\n",
       " ('溝通師', 0.626217246055603),\n",
       " ('愛犬', 0.6253347396850586),\n",
       " ('幫寵', 0.625105619430542),\n",
       " ('狗寶寶', 0.6243129968643188)]"
      ]
     },
     "execution_count": 18,
     "metadata": {},
     "output_type": "execute_result"
    }
   ],
   "source": [
    "text = '寵物' #@param {type:\"string\"}\n",
    "model.wv.most_similar(text)"
   ]
  },
  {
   "cell_type": "code",
   "execution_count": 31,
   "metadata": {},
   "outputs": [
    {
     "data": {
      "text/plain": [
       "[('帶上', 0.696977436542511),\n",
       " ('會帶', 0.6914471387863159),\n",
       " ('還帶', 0.689801037311554),\n",
       " ('帶著', 0.6866294145584106),\n",
       " ('們帶', 0.6317337155342102),\n",
       " ('來帶', 0.609357476234436),\n",
       " ('個帶', 0.6066043376922607),\n",
       " ('帶這', 0.6058026552200317),\n",
       " ('並帶', 0.6018357276916504),\n",
       " ('帶點', 0.5986478328704834)]"
      ]
     },
     "execution_count": 31,
     "metadata": {},
     "output_type": "execute_result"
    }
   ],
   "source": [
    "text = '帶' #@param {type:\"string\"}\n",
    "model.wv.most_similar(text)"
   ]
  },
  {
   "cell_type": "code",
   "execution_count": 32,
   "metadata": {},
   "outputs": [
    {
     "data": {
      "text/plain": [
       "[('難道', 0.7580268383026123),\n",
       " ('這樣嗎', 0.740021288394928),\n",
       " ('好嗎', 0.7329869270324707),\n",
       " ('不是嗎', 0.7189193964004517),\n",
       " ('了嗎', 0.7057216167449951),\n",
       " ('對不對', 0.6970216631889343),\n",
       " ('對吧', 0.6949605941772461),\n",
       " ('是嗎', 0.6921215057373047),\n",
       " ('這樣', 0.689322829246521),\n",
       " ('對嗎', 0.6838775873184204)]"
      ]
     },
     "execution_count": 32,
     "metadata": {},
     "output_type": "execute_result"
    }
   ],
   "source": [
    "text = '嗎' #@param {type:\"string\"}\n",
    "model.wv.most_similar(text)"
   ]
  },
  {
   "cell_type": "code",
   "execution_count": null,
   "metadata": {},
   "outputs": [],
   "source": []
  }
 ],
 "metadata": {
  "kernelspec": {
   "display_name": "Python 3",
   "language": "python",
   "name": "python3"
  },
  "language_info": {
   "codemirror_mode": {
    "name": "ipython",
    "version": 3
   },
   "file_extension": ".py",
   "mimetype": "text/x-python",
   "name": "python",
   "nbconvert_exporter": "python",
   "pygments_lexer": "ipython3",
   "version": "3.8.5"
  }
 },
 "nbformat": 4,
 "nbformat_minor": 4
}

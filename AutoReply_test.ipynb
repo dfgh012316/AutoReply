{
 "cells": [
  {
   "cell_type": "code",
   "execution_count": 2,
   "metadata": {},
   "outputs": [
    {
     "name": "stdout",
     "output_type": "stream",
     "text": [
      "[<Worksheet 'QAlist' index:0>, <Worksheet 'UnknowQuestion' index:1>]\n",
      "<Worksheet 'UnknowQuestion' index:1>\n",
      "1\n",
      "['Question', '今天幾點開門?', '可以刷卡嘛?', '可以訂位嘛?', '可以帶寵物嘛?', '有素食嘛?', '可以外送嗎?', '有LinePay嗎?', '最多人點甚麼?', '有菜單嗎?']\n",
      "['keywords', '開門,營業,關門,結束', '刷卡,付現,現金', '訂位', '寵物', '素食', '外送', 'LinePay', '好吃,推薦,食物,招牌', '菜單']\n",
      "[(0, ['開門', '營業', '關門', '結束']), (1, ['刷卡', '付現', '現金']), (2, ['訂位']), (3, ['寵物']), (4, ['素食']), (5, ['外送']), (6, ['LinePay']), (7, ['好吃', '推薦', '食物', '招牌']), (8, ['菜單'])]\n"
     ]
    }
   ],
   "source": [
    "import pygsheets\n",
    "\n",
    "url='https://docs.google.com/spreadsheets/d/1S8Bjn85zvB12M3-A5Hk1wnWJDfMO5PkzPsQMZT5dE4c/edit?usp=sharing'\n",
    "#請放入你自己的url\n",
    "\n",
    "gc = pygsheets.authorize(service_file='autoreply.json')  #請放入你的authorize\n",
    "sht = gc.open_by_url(url)\n",
    "\n",
    "\n",
    "wks_list = sht.worksheets()\n",
    "print(wks_list)\n",
    "wks=sht[0]\n",
    "wks1=sht[1]\n",
    "print(wks1)\n",
    "index=len(wks1.get_col(1,include_tailing_empty=False))\n",
    "print(len(wks1.get_col(1,include_tailing_empty=False)))\n",
    "\n",
    "#print(wks.get_row(1,include_tailing_empty=False))    #取得第1個row且不顯示空值\n",
    "print(wks.get_col(2,include_tailing_empty=False))    #取得第2個column且不顯示空值  \n",
    "question_list=wks.get_col(2,include_tailing_empty=False)\n",
    "keyword_list=wks.get_col(3,include_tailing_empty=False)[1:]  #去掉第一欄\n",
    "print(wks.get_col(3,include_tailing_empty=False))\n",
    "#df=wks.get_as_df()                                   #將google sheet轉成 pandas的dataframe\n",
    "\n",
    "compare_list=[]\n",
    "#print(question_list)\n",
    "#print(keyword_list)\n",
    "\n",
    "for index,keyword in enumerate(keyword_list) :\n",
    "    compare_list.append((index,keyword.split(',')))\n",
    "    \n",
    "print(compare_list)"
   ]
  },
  {
   "cell_type": "code",
   "execution_count": 13,
   "metadata": {
    "scrolled": true
   },
   "outputs": [
    {
     "name": "stdout",
     "output_type": "stream",
     "text": [
      "請輸入你的問題可以帶貓咪嗎？\n",
      "目前無此問題\n",
      "<generator object Tokenizer.cut at 0x7fbdd3164820>\n",
      "可以\n",
      "帶\n",
      "貓咪\n",
      "嗎\n",
      "？\n"
     ]
    }
   ],
   "source": [
    "import jieba\n",
    "import jieba.analyse\n",
    "string=input(\"請輸入你的問題\")\n",
    "#jieba.load_userdict('Corpus.txt')\n",
    "#keywords= jieba.analyse.extract_tags(string,topK=3,withWeight=False)  #withWeight可以返回權重\n",
    "keywords=jieba.cut(string)\n",
    "if string not in question_list :\n",
    "    print(\"目前無此問題\")\n",
    "    \n",
    "    \n",
    "print(keywords)\n",
    "for i in keywords:\n",
    "    print(i)"
   ]
  },
  {
   "cell_type": "code",
   "execution_count": 8,
   "metadata": {
    "scrolled": false
   },
   "outputs": [
    {
     "name": "stdout",
     "output_type": "stream",
     "text": [
      "目前找不到答案\n"
     ]
    }
   ],
   "source": [
    "def find_answer_ID(compare_list,keywords):\n",
    "    answer=[]\n",
    "    for item in compare_list :\n",
    "        answer.append([set(keywords)&set(item[1]),item[0]]) \n",
    "    if len(max(answer)[0]) > 0 :\n",
    "        return max(answer)[1]\n",
    "    else :\n",
    "        return False\n",
    "    \n",
    "\n",
    "find_answer_ID(compare_list,keywords)\n",
    "#print(find_answer_ID(compare_list,keywords))\n",
    "\n",
    "if find_answer_ID(compare_list,keywords) == False :\n",
    "    print(\"目前找不到答案\")\n",
    "else :\n",
    "    answer_ID=find_answer_ID(compare_list,keywords)\n",
    "    print(wks.get_value((answer_ID+2,4)))"
   ]
  },
  {
   "cell_type": "code",
   "execution_count": 9,
   "metadata": {},
   "outputs": [
    {
     "data": {
      "text/plain": [
       "1"
      ]
     },
     "execution_count": 9,
     "metadata": {},
     "output_type": "execute_result"
    }
   ],
   "source": [
    "index=1\n",
    "key_words=['好吃','炒飯','價格']\n",
    "question='好吃的炒飯價格多少？'\n",
    "def keyword_string(keywords):\n",
    "    string=\"\"\n",
    "    for keyword in keywords:\n",
    "        string=string+keyword+\",\"\n",
    "    return string\n",
    "\n",
    "\n",
    "content=keyword_string(key_words)\n",
    "\n",
    "def keyword_insert(index,question,content):\n",
    "    wks1.update_value((index+1,2),question)\n",
    "    wks1.update_value((index+1,3),content)\n",
    "    return 1\n",
    "\n",
    "keyword_insert(index,question,content)"
   ]
  },
  {
   "cell_type": "code",
   "execution_count": 3,
   "metadata": {},
   "outputs": [],
   "source": []
  },
  {
   "cell_type": "code",
   "execution_count": null,
   "metadata": {},
   "outputs": [],
   "source": []
  }
 ],
 "metadata": {
  "kernelspec": {
   "display_name": "Python 3",
   "language": "python",
   "name": "python3"
  },
  "language_info": {
   "codemirror_mode": {
    "name": "ipython",
    "version": 3
   },
   "file_extension": ".py",
   "mimetype": "text/x-python",
   "name": "python",
   "nbconvert_exporter": "python",
   "pygments_lexer": "ipython3",
   "version": "3.8.5"
  }
 },
 "nbformat": 4,
 "nbformat_minor": 4
}
